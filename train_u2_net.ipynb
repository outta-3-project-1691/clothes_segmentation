{
 "cells": [
  {
   "cell_type": "code",
   "execution_count": 1,
   "metadata": {},
   "outputs": [],
   "source": [
    "%load_ext autoreload\n",
    "%autoreload 2"
   ]
  },
  {
   "cell_type": "code",
   "execution_count": 2,
   "metadata": {},
   "outputs": [],
   "source": [
    "from torch import cuda\n",
    "from torch.optim import Adam\n",
    "from torch.nn import CrossEntropyLoss\n",
    "from torch.functional import F\n",
    "\n",
    "\n",
    "from codes.load_testset import load_testset\n",
    "from models.u2_net import U2NET_lite\n",
    "from loss.scloss import SCLoss"
   ]
  },
  {
   "cell_type": "code",
   "execution_count": 3,
   "metadata": {},
   "outputs": [],
   "source": [
    "device = 'cuda' if cuda.is_available() else 'cpu'"
   ]
  },
  {
   "cell_type": "code",
   "execution_count": 4,
   "metadata": {},
   "outputs": [],
   "source": [
    "model = U2NET_lite(7).to(device=device)"
   ]
  },
  {
   "cell_type": "code",
   "execution_count": 5,
   "metadata": {},
   "outputs": [
    {
     "name": "stdout",
     "output_type": "stream",
     "text": [
      "torch.Size([8000, 3, 128, 128]) torch.Size([8000, 128, 128])\n"
     ]
    }
   ],
   "source": [
    "train_loader, valid_loader = load_testset('dataset/G2_train.h5', 8000, 2000)"
   ]
  },
  {
   "cell_type": "code",
   "execution_count": 6,
   "metadata": {},
   "outputs": [],
   "source": [
    "criterion = CrossEntropyLoss()\n",
    "sc_loss = SCLoss()\n",
    "optimizer = Adam(model.parameters(), lr=1e-4)"
   ]
  },
  {
   "cell_type": "code",
   "execution_count": 7,
   "metadata": {},
   "outputs": [],
   "source": [
    "def train(model, criterion, sc_loss, optimizer, dataloader, num_epochs=1):\n",
    "    model.train()\n",
    "    \n",
    "    for epoch in range(num_epochs):\n",
    "        epoch_loss = 0\n",
    "        \n",
    "        for inputs, targets in dataloader:\n",
    "            inputs, targets = inputs.to(device), targets.to(device)\n",
    "            targets = targets.long()\n",
    "\n",
    "            # Forward pass\n",
    "            outputs = model(inputs)\n",
    "            print(targets.shape, outputs.shape )\n",
    "            # Main Loss 계산 (CrossEntropyLoss)\n",
    "            ce_loss = criterion(outputs, targets)\n",
    "            print(ce_loss)\n",
    "            # SCLoss 계산\n",
    "            \n",
    "            outputs_probs = F.softmax(outputs, dim=1)  # outputs는 [b, 7, 128, 128]에서 확률 분포로 변환됨\n",
    "\n",
    "            # 타겟을 원핫 인코딩으로 변환\n",
    "            targets_onehot = F.one_hot(targets, num_classes=outputs.shape[1]).permute(0, 3, 1, 2).float()  # [b, 7, 128, 128]\n",
    "            \n",
    "            sc_loss_value = sc_loss(outputs_probs, targets_onehot)\n",
    "            print(sc_loss_value)\n",
    "            \n",
    "            # 두 손실을 합산 (가중치를 조정 가능)\n",
    "            loss = ce_loss + sc_loss_value\n",
    "            print(loss)\n",
    "\n",
    "            # Backward pass\n",
    "            optimizer.zero_grad()\n",
    "            loss.backward()\n",
    "            optimizer.step()\n",
    "\n",
    "            epoch_loss += loss.item()\n",
    "            print(epoch_loss)\n",
    "\n",
    "\n",
    "        print(f'Epoch {epoch+1}/{num_epochs}, Loss: {epoch_loss/len(dataloader)}')"
   ]
  },
  {
   "cell_type": "code",
   "execution_count": 8,
   "metadata": {},
   "outputs": [
    {
     "name": "stdout",
     "output_type": "stream",
     "text": [
      "torch.Size([32, 128, 128]) torch.Size([32, 7, 128, 128])\n",
      "tensor(1.9134, device='cuda:0', grad_fn=<NllLoss2DBackward0>)\n",
      "tensor(1.9134, device='cuda:0', grad_fn=<NllLoss2DBackward0>)\n",
      "tensor(1.9334, device='cuda:0', grad_fn=<AddBackward0>)\n",
      "1.9333983659744263\n",
      "torch.Size([32, 128, 128]) torch.Size([32, 7, 128, 128])\n",
      "tensor(1.8094, device='cuda:0', grad_fn=<NllLoss2DBackward0>)\n",
      "tensor(1.8094, device='cuda:0', grad_fn=<NllLoss2DBackward0>)\n",
      "tensor(1.8300, device='cuda:0', grad_fn=<AddBackward0>)\n",
      "3.763394594192505\n",
      "torch.Size([32, 128, 128]) torch.Size([32, 7, 128, 128])\n",
      "tensor(1.7126, device='cuda:0', grad_fn=<NllLoss2DBackward0>)\n",
      "tensor(1.7126, device='cuda:0', grad_fn=<NllLoss2DBackward0>)\n",
      "tensor(1.7330, device='cuda:0', grad_fn=<AddBackward0>)\n",
      "5.496382355690002\n",
      "torch.Size([32, 128, 128]) torch.Size([32, 7, 128, 128])\n",
      "tensor(1.6062, device='cuda:0', grad_fn=<NllLoss2DBackward0>)\n",
      "tensor(1.6062, device='cuda:0', grad_fn=<NllLoss2DBackward0>)\n",
      "tensor(1.6262, device='cuda:0', grad_fn=<AddBackward0>)\n",
      "7.122559428215027\n",
      "torch.Size([32, 128, 128]) torch.Size([32, 7, 128, 128])\n",
      "tensor(1.5395, device='cuda:0', grad_fn=<NllLoss2DBackward0>)\n",
      "tensor(1.5395, device='cuda:0', grad_fn=<NllLoss2DBackward0>)\n",
      "tensor(1.5595, device='cuda:0', grad_fn=<AddBackward0>)\n",
      "8.682060480117798\n",
      "torch.Size([32, 128, 128]) torch.Size([32, 7, 128, 128])\n",
      "tensor(1.4626, device='cuda:0', grad_fn=<NllLoss2DBackward0>)\n",
      "tensor(1.4626, device='cuda:0', grad_fn=<NllLoss2DBackward0>)\n",
      "tensor(1.4827, device='cuda:0', grad_fn=<AddBackward0>)\n",
      "10.164737343788147\n",
      "torch.Size([32, 128, 128]) torch.Size([32, 7, 128, 128])\n",
      "tensor(1.4070, device='cuda:0', grad_fn=<NllLoss2DBackward0>)\n",
      "tensor(1.4070, device='cuda:0', grad_fn=<NllLoss2DBackward0>)\n",
      "tensor(1.4261, device='cuda:0', grad_fn=<AddBackward0>)\n",
      "11.590790271759033\n",
      "torch.Size([32, 128, 128]) torch.Size([32, 7, 128, 128])\n",
      "tensor(1.3214, device='cuda:0', grad_fn=<NllLoss2DBackward0>)\n",
      "tensor(1.3214, device='cuda:0', grad_fn=<NllLoss2DBackward0>)\n",
      "tensor(1.3409, device='cuda:0', grad_fn=<AddBackward0>)\n",
      "12.931705474853516\n",
      "torch.Size([32, 128, 128]) torch.Size([32, 7, 128, 128])\n",
      "tensor(1.2575, device='cuda:0', grad_fn=<NllLoss2DBackward0>)\n",
      "tensor(1.2575, device='cuda:0', grad_fn=<NllLoss2DBackward0>)\n",
      "tensor(1.2769, device='cuda:0', grad_fn=<AddBackward0>)\n",
      "14.208653926849365\n",
      "torch.Size([32, 128, 128]) torch.Size([32, 7, 128, 128])\n",
      "tensor(1.1817, device='cuda:0', grad_fn=<NllLoss2DBackward0>)\n",
      "tensor(1.1817, device='cuda:0', grad_fn=<NllLoss2DBackward0>)\n",
      "tensor(1.2016, device='cuda:0', grad_fn=<AddBackward0>)\n",
      "15.410251498222351\n",
      "torch.Size([32, 128, 128]) torch.Size([32, 7, 128, 128])\n",
      "tensor(1.1701, device='cuda:0', grad_fn=<NllLoss2DBackward0>)\n",
      "tensor(1.1701, device='cuda:0', grad_fn=<NllLoss2DBackward0>)\n",
      "tensor(1.1897, device='cuda:0', grad_fn=<AddBackward0>)\n",
      "16.59997534751892\n",
      "torch.Size([32, 128, 128]) torch.Size([32, 7, 128, 128])\n",
      "tensor(1.0929, device='cuda:0', grad_fn=<NllLoss2DBackward0>)\n",
      "tensor(1.0929, device='cuda:0', grad_fn=<NllLoss2DBackward0>)\n",
      "tensor(1.1116, device='cuda:0', grad_fn=<AddBackward0>)\n",
      "17.71152949333191\n",
      "torch.Size([32, 128, 128]) torch.Size([32, 7, 128, 128])\n",
      "tensor(1.0413, device='cuda:0', grad_fn=<NllLoss2DBackward0>)\n",
      "tensor(1.0413, device='cuda:0', grad_fn=<NllLoss2DBackward0>)\n",
      "tensor(1.0597, device='cuda:0', grad_fn=<AddBackward0>)\n",
      "18.77125060558319\n",
      "torch.Size([32, 128, 128]) torch.Size([32, 7, 128, 128])\n",
      "tensor(0.9862, device='cuda:0', grad_fn=<NllLoss2DBackward0>)\n",
      "tensor(0.9862, device='cuda:0', grad_fn=<NllLoss2DBackward0>)\n",
      "tensor(1.0054, device='cuda:0', grad_fn=<AddBackward0>)\n",
      "19.77665400505066\n",
      "torch.Size([32, 128, 128]) torch.Size([32, 7, 128, 128])\n",
      "tensor(0.9452, device='cuda:0', grad_fn=<NllLoss2DBackward0>)\n",
      "tensor(0.9452, device='cuda:0', grad_fn=<NllLoss2DBackward0>)\n",
      "tensor(0.9648, device='cuda:0', grad_fn=<AddBackward0>)\n",
      "20.741489052772522\n",
      "torch.Size([32, 128, 128]) torch.Size([32, 7, 128, 128])\n",
      "tensor(0.8993, device='cuda:0', grad_fn=<NllLoss2DBackward0>)\n",
      "tensor(0.8993, device='cuda:0', grad_fn=<NllLoss2DBackward0>)\n",
      "tensor(0.9176, device='cuda:0', grad_fn=<AddBackward0>)\n",
      "21.659130573272705\n",
      "torch.Size([32, 128, 128]) torch.Size([32, 7, 128, 128])\n",
      "tensor(0.8637, device='cuda:0', grad_fn=<NllLoss2DBackward0>)\n",
      "tensor(0.8637, device='cuda:0', grad_fn=<NllLoss2DBackward0>)\n",
      "tensor(0.8820, device='cuda:0', grad_fn=<AddBackward0>)\n"
     ]
    }
   ],
   "source": [
    "train(model, criterion, sc_loss, optimizer, train_loader, num_epochs=1)"
   ]
  }
 ],
 "metadata": {
  "kernelspec": {
   "display_name": "ml",
   "language": "python",
   "name": "python3"
  },
  "language_info": {
   "codemirror_mode": {
    "name": "ipython",
    "version": 3
   },
   "file_extension": ".py",
   "mimetype": "text/x-python",
   "name": "python",
   "nbconvert_exporter": "python",
   "pygments_lexer": "ipython3",
   "version": "3.9.19"
  }
 },
 "nbformat": 4,
 "nbformat_minor": 2
}
